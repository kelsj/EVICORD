{
 "cells": [
  {
   "cell_type": "markdown",
   "metadata": {},
   "source": [
    "# Example for EVICORD sampler"
   ]
  },
  {
   "cell_type": "code",
   "execution_count": null,
   "metadata": {
    "collapsed": false
   },
   "outputs": [],
   "source": [
    "library(EVICORD)\n",
    "library(ggplot2)\n",
    "library(dplyr)\n",
    "setwd(\"./EVICORD/example\")"
   ]
  },
  {
   "cell_type": "markdown",
   "metadata": {},
   "source": [
    "## Set up: allele count & number of allele pairs"
   ]
  },
  {
   "cell_type": "code",
   "execution_count": null,
   "metadata": {
    "collapsed": true
   },
   "outputs": [],
   "source": [
    "ac = 4 #allele count\n",
    "npairs = choose(ac,2) #number of allele pairs"
   ]
  },
  {
   "cell_type": "markdown",
   "metadata": {},
   "source": [
    "## Simulate data\n",
    "Generate simulated pairwise recombination distances for 200 IBD variants, 200 recurrent variants (with partition 1:3)."
   ]
  },
  {
   "cell_type": "code",
   "execution_count": null,
   "metadata": {
    "collapsed": false
   },
   "outputs": [],
   "source": [
    "#simulate pairwise recombination distances for IBD variants\n",
    "nibd = 200 #number of variants\n",
    "tibd = rgamma(nibd,shape=10,rate=0.1) #sample nibd TMRCAs\n",
    "\n",
    "ibddat = tbl_df(data.frame()) #place to store IBD variant recomb distances\n",
    "\n",
    "for (i in 1:nibd){ #for each variant\n",
    "    distsL = rexp(npairs,rate=tibd[i]/50) #recomb dists left side\n",
    "    distsR = rexp(npairs,rate=tibd[i]/50) #recomb dists right side\n",
    "    vardat = cbind(rep(i,npairs),distsL,distsR)\n",
    "    ibddat = rbind(ibddat,vardat)\n",
    "}\n",
    "\n",
    "colnames(ibddat) = c(\"varID\",\"distL\",\"distR\")\n",
    "ibddat = tbl_df(ibddat) %>% mutate(type=\"ibd\")\n",
    "\n",
    "#simulate pairwise recombination distances for recurrent variants\n",
    "#use partition 1:3 (recurrent variant comprised of a singleton & a tripleton)\n",
    "nrec = 200 #number of variants\n",
    "trec_rec = rgamma(nrec,shape=40,rate=0.08) #sample nibd TMRCAs for recurrent allele pairs\n",
    "trec_ibd = rgamma(nrec,shape=8,rate=0.1) #sample nibd TMRCAs for IBD allele pairs\n",
    "\n",
    "recdat = tbl_df(data.frame()) #place to store recurrent variant recomb distances\n",
    "\n",
    "for (i in 1:nrec){ #for each variant\n",
    "    #sample distances of rec allele pairs\n",
    "    distsLrec = rexp(3,rate=trec_rec[i]/50) #in 1:3 partition there are 1x3=3 recurrent allele pairs\n",
    "    distsRrec = rexp(3,rate=trec_rec[i]/50)\n",
    "    \n",
    "    #sample distances of ibd allele pairs\n",
    "    distsLibd = rexp(3,rate=trec_ibd[i]/50) #in 1:3 partition there are choose(3,2)=3 IBD allele pairs\n",
    "    distsRibd = rexp(3,rate=trec_ibd[i]/50)\n",
    "    \n",
    "    vardat = cbind(rep(i+nibd,npairs),c(distsLrec,distsLibd),c(distsRrec,distsRibd))\n",
    "    recdat = rbind(recdat,vardat)\n",
    "}\n",
    "colnames(recdat) = c(\"varID\",\"distL\",\"distR\")\n",
    "recdat = tbl_df(recdat) %>% mutate(type=\"rec\")\n",
    "\n",
    "#combine recomb distances rec & IBD\n",
    "alldat = bind_rows(ibddat,recdat)"
   ]
  },
  {
   "cell_type": "markdown",
   "metadata": {},
   "source": [
    "Visualize simulated TMRCAs."
   ]
  },
  {
   "cell_type": "code",
   "execution_count": null,
   "metadata": {
    "collapsed": false
   },
   "outputs": [],
   "source": [
    "#plot density of TMRCAs\n",
    "tmrca = cbind(tibd,trec_ibd,trec_rec) %>% tbl_df() %>% tidyr::gather(key=\"pairType\",value=\"t\",1:3)\n",
    "ggplot(tmrca) + geom_density(aes(x=t,color=pairType))"
   ]
  },
  {
   "cell_type": "markdown",
   "metadata": {},
   "source": [
    "Visualize simulated recombination distances:"
   ]
  },
  {
   "cell_type": "code",
   "execution_count": null,
   "metadata": {
    "collapsed": false
   },
   "outputs": [],
   "source": [
    "#plot density of pairwise recombination distances\n",
    "ggplot(alldat) + geom_density(aes(x=distL,color=type))"
   ]
  },
  {
   "cell_type": "markdown",
   "metadata": {},
   "source": [
    "Save simulated recombination distances to file."
   ]
  },
  {
   "cell_type": "code",
   "execution_count": null,
   "metadata": {
    "collapsed": true
   },
   "outputs": [],
   "source": [
    "write.table(alldat[,1:3],\"sim_dists_ex.txt\",quote=F,sep=\"\\t\",row.names=F)"
   ]
  },
  {
   "cell_type": "markdown",
   "metadata": {},
   "source": [
    "## Run sampler"
   ]
  },
  {
   "cell_type": "code",
   "execution_count": null,
   "metadata": {
    "collapsed": false
   },
   "outputs": [],
   "source": [
    "#load distances from file (3 cols: varID, distL, distR)\n",
    "dists = load_dists(\"sim_dists_ex.txt\",header=T,ac=4)\n",
    "\n",
    "#run sampler\n",
    "sampler(dists,ac=4,alphaRec=40,betaRec=0.1,alphaIBD=10,alpha0=1,beta0=10,piPriors=c(0.4,0.4,0.2),niter=100,outfile=\"gibbs_sampler_out.rds\")\n"
   ]
  },
  {
   "cell_type": "markdown",
   "metadata": {},
   "source": [
    "## Visualize sampler output"
   ]
  },
  {
   "cell_type": "code",
   "execution_count": null,
   "metadata": {
    "collapsed": true
   },
   "outputs": [],
   "source": [
    "viz_res(\"gibbs_sampler_out.rds\",ac=4,tf=5,outfile=\"gibbs_sampler_out_viz.pdf\")"
   ]
  }
 ],
 "metadata": {
  "anaconda-cloud": {},
  "kernelspec": {
   "display_name": "R",
   "language": "R",
   "name": "ir"
  },
  "language_info": {
   "codemirror_mode": "r",
   "file_extension": ".r",
   "mimetype": "text/x-r-source",
   "name": "R",
   "pygments_lexer": "r",
   "version": "3.6.0"
  }
 },
 "nbformat": 4,
 "nbformat_minor": 0
}
