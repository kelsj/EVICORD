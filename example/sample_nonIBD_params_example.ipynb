{
 "cells": [
  {
   "cell_type": "markdown",
   "metadata": {},
   "source": [
    "# Example for ibdibsR function nonIBD_param_values\n",
    "\n",
    "## Set up"
   ]
  },
  {
   "cell_type": "code",
   "execution_count": null,
   "metadata": {
    "collapsed": false
   },
   "outputs": [],
   "source": [
    "library(ibdibsR)\n",
    "library(ggplot2)\n",
    "library(dplyr)\n",
    "setwd(\"./ibdibsR/example\")"
   ]
  },
  {
   "cell_type": "markdown",
   "metadata": {},
   "source": [
    "## Simulate data"
   ]
  },
  {
   "cell_type": "code",
   "execution_count": null,
   "metadata": {
    "collapsed": false
   },
   "outputs": [],
   "source": [
    "#simulate non-IBD distances\n",
    "nrec = 300\n",
    "tsim = rgamma(nrec,shape=40,rate=0.08) #alpha=40, beta=0.08\n",
    "\n",
    "#for each variant, sample 4 recombination distances on each side\n",
    "n_nonIBDpairs = 3\n",
    "dists = tbl_df(data.frame())\n",
    "for (i in 1:nrec){\n",
    "    distsL = rexp(n_nonIBDpairs, rate=tsim[i]/50)\n",
    "    distsR = rexp(n_nonIBDpairs, rate=tsim[i]/50)\n",
    "    varID = rep(i,n_nonIBDpairs)\n",
    "    vardat = cbind(varID,distsL,distsR)\n",
    "    dists = rbind(dists,vardat)\n",
    "}\n",
    "\n",
    "head(dists)"
   ]
  },
  {
   "cell_type": "markdown",
   "metadata": {},
   "source": [
    "Visualize simulated recombination distances:"
   ]
  },
  {
   "cell_type": "code",
   "execution_count": null,
   "metadata": {
    "collapsed": false
   },
   "outputs": [],
   "source": [
    "#visualize distances\n",
    "ggplot(dists) + geom_density(aes(x=distsL),color=\"red\") + geom_density(aes(x=distsR),color=\"blue\")"
   ]
  },
  {
   "cell_type": "markdown",
   "metadata": {},
   "source": [
    "## Run Gibbs sampler"
   ]
  },
  {
   "cell_type": "code",
   "execution_count": null,
   "metadata": {
    "collapsed": false
   },
   "outputs": [],
   "source": [
    "#saves sampled values to RDS file sampled_nonIBD_param_values_alpha40.rds\n",
    "nonIBD_param_values(dists,n_nonIBDpairs=3,alpha=40,alpha0=1,beta0=10,niter=500,outfile=\"sampled_nonIBD_param_values_alpha40\") \n",
    "\n",
    "#load output from rds file\n",
    "output = readRDS(\"sampled_nonIBD_param_values_alpha40.rds\")\n",
    "betaSamp = output$betaSamp\n",
    "tSamp = output$tSamp"
   ]
  },
  {
   "cell_type": "markdown",
   "metadata": {},
   "source": [
    "## Inspect output\n",
    "Plot posterior estimates of beta by iteration:"
   ]
  },
  {
   "cell_type": "code",
   "execution_count": null,
   "metadata": {
    "collapsed": false
   },
   "outputs": [],
   "source": [
    "ggplot() + geom_line(aes(x=1:501,y=betaSamp))"
   ]
  },
  {
   "cell_type": "markdown",
   "metadata": {},
   "source": [
    "Compare each variant's median sampled TMRCA estimates to true simulated values:\n"
   ]
  },
  {
   "cell_type": "code",
   "execution_count": null,
   "metadata": {
    "collapsed": true
   },
   "outputs": [],
   "source": [
    "medTsamp = apply(tSamp,2,median)\n",
    "ggplot() + geom_point(aes(x=tsim,y=medTsamp))"
   ]
  }
 ],
 "metadata": {
  "anaconda-cloud": {},
  "kernelspec": {
   "display_name": "R",
   "language": "R",
   "name": "ir"
  },
  "language_info": {
   "codemirror_mode": "r",
   "file_extension": ".r",
   "mimetype": "text/x-r-source",
   "name": "R",
   "pygments_lexer": "r",
   "version": "3.6.0"
  }
 },
 "nbformat": 4,
 "nbformat_minor": 0
}
